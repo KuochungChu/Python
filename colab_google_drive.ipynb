{
  "nbformat": 4,
  "nbformat_minor": 0,
  "metadata": {
    "colab": {
      "provenance": []
    },
    "kernelspec": {
      "name": "python3",
      "display_name": "Python 3"
    },
    "language_info": {
      "name": "python"
    }
  },
  "cells": [
    {
      "cell_type": "code",
      "source": [
        "from pydrive.auth import GoogleAuth\n",
        "from pydrive.drive import GoogleDrive\n",
        "from google.colab import auth\n",
        "from oauth2client.client import GoogleCredentials"
      ],
      "metadata": {
        "id": "CbsJiRQZ4cXA"
      },
      "execution_count": null,
      "outputs": []
    },
    {
      "cell_type": "code",
      "source": [
        "auth.authenticate_user()\n",
        "gauth = GoogleAuth()\n",
        "gauth.credentials = GoogleCredentials.get_application_default()\n",
        "drive = GoogleDrive(gauth)"
      ],
      "metadata": {
        "id": "7uvBuLZ24cx1"
      },
      "execution_count": null,
      "outputs": []
    },
    {
      "cell_type": "markdown",
      "source": [
        "upload cat.jpg and dog.jpg to your VM folder"
      ],
      "metadata": {
        "id": "gtHoeSxd_9lI"
      }
    },
    {
      "cell_type": "code",
      "source": [
        "#upload files to google drive to id: 1m-4CQQ4VdhDkYGH2MWpfvHdkbLlJXHlL\n",
        "\n",
        "upload_file_list = ['cat.jpg', 'dog.jpg']\n",
        "for upload_file in upload_file_list:\n",
        "\tgfile = drive.CreateFile({'parents': [{'id': '1m-4CQQ4VdhDkYGH2MWpfvHdkbLlJXHlL'}]})\n",
        "\t# Read file and set it as the content of this instance.\n",
        "\tgfile.SetContentFile(upload_file)\n",
        "\tgfile.Upload() # Upload the file."
      ],
      "metadata": {
        "id": "jpWwloro6S3G"
      },
      "execution_count": null,
      "outputs": []
    },
    {
      "cell_type": "code",
      "source": [
        "#List out files from Google Drive id: 1FwB1O0PTILGYebmyqkkkq3MwvgVteIFi\n",
        "\n",
        "file_list = drive.ListFile({'q': \"'{}' in parents and trashed=false\".format('1m-4CQQ4VdhDkYGH2MWpfvHdkbLlJXHlL')}).GetList()\n",
        "for file in file_list:\n",
        "\tprint('title: %s, id: %s' % (file['title'], file['id']))"
      ],
      "metadata": {
        "colab": {
          "base_uri": "https://localhost:8080/"
        },
        "id": "wuOsw4zs_pIs",
        "outputId": "5707873d-8e74-46d6-cbd9-e5078850b6d4"
      },
      "execution_count": null,
      "outputs": [
        {
          "output_type": "stream",
          "name": "stdout",
          "text": [
            "title: dog.jpg, id: 11xiGt1Ygjf9_6L6C_Jph-LHE5UcJsfDB\n",
            "title: cat.jpg, id: 1ODjqzg-_cb9rVkKo1z2FBuCOISpdnROI\n",
            "title: 1_Google_CoLab_20230321.pdf, id: 150whasx7VPpXYaIYqdDpQODh9GT5nvdE\n",
            "title: 1_Google_CoLab_20230321.pptx, id: 1p1AAKcJolU7tOK1glTXWmfge3lh6IOTs\n",
            "title: 3_Transfer_Learning_20230516.pptx, id: 1pGNNIHqA-xjqd9FrvdAuMK403uLnhyHF\n",
            "title: 2_Image Classification_20230411.pptx, id: 1owMhCvu7eCKdgohFDAkyjMA_N7TjxgRE\n"
          ]
        }
      ]
    },
    {
      "cell_type": "code",
      "source": [
        "#Delete cat.jpg and dog.jpg from your VM\n",
        "#Download the files from Google Drive into your VM again\n",
        "\n",
        "for i, file in enumerate(sorted(file_list, key = lambda x: x['title']), start=1):\n",
        "\tif file['title']=='dog.jpg' or file['title']=='cat.jpg':\n",
        "\t\tprint('Downloading {} file from GDrive ({}/{})'.format(file['title'], i, len(file_list)))\n",
        "\t\tfile.GetContentFile(file['title'])"
      ],
      "metadata": {
        "colab": {
          "base_uri": "https://localhost:8080/"
        },
        "id": "rf_UiT3IFRk6",
        "outputId": "77cabe6e-28d9-49fb-f762-56b84b52557e"
      },
      "execution_count": null,
      "outputs": [
        {
          "output_type": "stream",
          "name": "stdout",
          "text": [
            "Downloading cat.jpg file from GDrive (5/6)\n",
            "Downloading dog.jpg file from GDrive (6/6)\n"
          ]
        }
      ]
    },
    {
      "cell_type": "code",
      "source": [
        "#Create the Text files in Google Drive\n",
        "\n",
        "file1 = drive.CreateFile({'parents': [{'id': '1m-4CQQ4VdhDkYGH2MWpfvHdkbLlJXHlL'}],'title': 'create_from_colab.txt'})\n",
        "# Set content of the file from the given string.\n",
        "file1.SetContentString('Hello World colab!')\n",
        "file1.Upload()"
      ],
      "metadata": {
        "id": "C87-LtUjFcO1"
      },
      "execution_count": null,
      "outputs": []
    },
    {
      "cell_type": "code",
      "source": [
        "#Read content of the text file directly from Google Drive\n",
        "\n",
        "file2 = drive.CreateFile({'id': file1['id']})\n",
        "file2.GetContentString('create_from_colab.txt')"
      ],
      "metadata": {
        "colab": {
          "base_uri": "https://localhost:8080/",
          "height": 36
        },
        "id": "BJfikZe0Fxqx",
        "outputId": "21d05f73-dad4-40da-b74d-f60ee3c45db5"
      },
      "execution_count": null,
      "outputs": [
        {
          "output_type": "execute_result",
          "data": {
            "text/plain": [
              "'Hello World colab!'"
            ],
            "application/vnd.google.colaboratory.intrinsic+json": {
              "type": "string"
            }
          },
          "metadata": {},
          "execution_count": 10
        }
      ]
    },
    {
      "cell_type": "code",
      "source": [
        "#Mount google drive to VM\n",
        "\n",
        "from google.colab import drive\n",
        "\n",
        "drive.mount('/content/my_google_drive')"
      ],
      "metadata": {
        "colab": {
          "base_uri": "https://localhost:8080/"
        },
        "id": "Iuljh8BnIM8C",
        "outputId": "cc8f4e47-09b0-4419-afec-bb8aefd6760c"
      },
      "execution_count": null,
      "outputs": [
        {
          "output_type": "stream",
          "name": "stdout",
          "text": [
            "Mounted at /content/my_google_drive\n"
          ]
        }
      ]
    },
    {
      "cell_type": "code",
      "source": [
        "#Try to create a folder\n",
        "\n",
        "import os\n",
        "\n",
        "os.mkdir('my_google_drive/MyDrive/create_folder_from_colab')"
      ],
      "metadata": {
        "id": "Iqc5jwsx_eTc"
      },
      "execution_count": null,
      "outputs": []
    },
    {
      "cell_type": "code",
      "source": [
        "#Try to delete the folder we created\n",
        "\n",
        "import shutil\n",
        "\n",
        "delete_filepath = 'my_google_drive/MyDrive/create_folder_from_colab'\n",
        "shutil.rmtree(delete_filepath)"
      ],
      "metadata": {
        "id": "DXPecpBFISZQ"
      },
      "execution_count": null,
      "outputs": []
    },
    {
      "cell_type": "code",
      "source": [
        "#Use Shell to delete the file\n",
        "\n",
        "!rm my_google_drive/MyDrive/Colab\\ Notebooks/colab_basic/create_from_colab.txt"
      ],
      "metadata": {
        "id": "lf3TUjmXJUUx",
        "colab": {
          "base_uri": "https://localhost:8080/"
        },
        "outputId": "886943e4-78e6-475f-beef-96bfe563559c"
      },
      "execution_count": null,
      "outputs": [
        {
          "output_type": "stream",
          "name": "stdout",
          "text": [
            "rm: cannot remove 'my_google_drive/MyDrive/Colab Notebooks/colab_basic/create_from_colab.txt': No such file or directory\n"
          ]
        }
      ]
    },
    {
      "cell_type": "code",
      "source": [],
      "metadata": {
        "id": "ugj9FMybAeVD"
      },
      "execution_count": null,
      "outputs": []
    }
  ]
}